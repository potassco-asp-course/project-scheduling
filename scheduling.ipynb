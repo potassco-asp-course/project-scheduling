{
 "cells": [
  {
   "cell_type": "markdown",
   "metadata": {},
   "source": [
    "# Problem Description.\n",
    "\n",
    "\n",
    "The task of this project is to solve two scheduling problems in ASP:\n",
    "the Permutation Flow Shop problem, and the Job Shop problem.\n",
    "\n",
    "In both problems there are ``j`` jobs and ``m`` machines.\n",
    "We refer to the machines with numbers from ``1`` to ``m``.\n",
    "Every job consists of ``m`` operations\n",
    "that have to be performed in a given sequence.\n",
    "Each operation uses one machine during a given time, and\n",
    "we refer to each operation of a job with the number of the machine that it uses.\n",
    "A machine can only process one operation at a time, and\n",
    "some operations may have to wait until their corresponding machine is free.\n",
    "Different operations of the same job use different machines, and\n",
    "the operations of each single job use all machines.\n",
    "\n",
    "In the Permutation Flow Shop problem:\n",
    "* the operations of every job must be processed in the sequence ``1``, ..., ``m``, and\n",
    "* the processing order of the jobs on the machines is the same for every machine.\n",
    "\n",
    "The  problem  consists  in  finding  a permutation of the jobs that\n",
    "minimizes the time needed for processing all jobs.\n",
    "\n",
    "\n",
    "The next figure represents a Permutation Flow Shop problem \n",
    "with three jobs ``a``, ``b`` and ``c`` that have to be scheduled on two machines ``1`` and ``2``.\n",
    "\n",
    "The colored boxes indicate the duration of the operations. \n",
    "Lighter shades of the same color are for the first machine, and \n",
    "darker ones are for the second machine. \n",
    "For example, job ``a`` needs to be processed for ``3`` time units\n",
    "on the first and ``4`` time units on the second machine.\n",
    "<img width=\"200\" height=\"150\" src=\"img/jobs.png\">\n",
    "\n",
    "The next figure shows solutions for all possible permutations with the total execution length\n",
    "in the top right corner and actual solutions with a blue background:\n",
    "<img width=\"700\" height=\"450\" src=\"img/solutions.png\">\n",
    "\n",
    "\n",
    "In the Job Shop problem:\n",
    "* the operations of every job must be processed in a sequence that is given as part of the input, and\n",
    "* any processing order of the jobs on the machines is allowed.\n",
    "\n",
    "Note that different jobs may have a different sequence of operations, and\n",
    "that different machines may process the operations in a different order.\n",
    "The problem consists in finding for every machine a permutation of the jobs that\n",
    "minimizes the time needed for processing all jobs.\n"
   ]
  },
  {
   "cell_type": "markdown",
   "metadata": {},
   "source": [
    "# Representation in ASP.\n",
    "\n",
    "An instance of the Permutation Flow Shop problem is represented by facts over the following predicates:\n",
    "```\n",
    "job(J).          % J is a job\n",
    "machine(M).      % M is a machine\n",
    "duration(J,M,D). % D is the duration of the operation M of the job J\n",
    "```\n",
    "The example shown before is represented by the following facts:\n",
    "```\n",
    "job(a). job(b). job(c).\n",
    "machine(1). machine(2).\n",
    "duration(a,1,3).  duration(a,2,4).\n",
    "duration(b,1,1).  duration(b,2,6).\n",
    "duration(c,1,5).  duration(c,2,5).\n",
    "```\n",
    "\n",
    "The solutions of the Permutation Flow Shop problem are represented by atoms of the predicate ``perm/2``:\n",
    "```\n",
    "perm(J,P).       % job J is at position P of the permutation\n",
    "```\n",
    "For instance, the top right solution of the example consists of the following atoms:\n",
    "```\n",
    "perm(b,1) perm(c,2) perm(a,3)\n",
    "```\n",
    "\n",
    "The instances of the Job Shop problem use the previous predicates ``job/1``, ``machine/1``, ``duration/3`` and the following one:\n",
    "```\n",
    "sequence(J,M,P). % the job J processes the operation M at position P in the sequence\n",
    "```\n",
    "The solutions of the Job Shop problem are represented by atoms of the predicate ``perm/3``:\n",
    "```\n",
    "perm(J,M,P).     % job J is at position P of the permutation of machine M\n",
    "```"
   ]
  },
  {
   "cell_type": "markdown",
   "metadata": {},
   "source": [
    "# Task.\n",
    "\n",
    "Write two ASP encodings, one for each scheduling problem, such that given an instance,\n",
    "the optimal stable models of the encoding and the instance\n",
    "correspond to the solutions of the problem represented by the instance.\n",
    "To compute optimal solutions, use the optimize statements of ``clingo``."
   ]
  },
  {
   "cell_type": "markdown",
   "metadata": {},
   "source": [
    "# Framework.\n",
    "\n",
    "The directory ``asp`` contains the files that you need for the project. In the directory ``asp/instances`` you can find 16 instances that are valid for both scheduling problems (our example is ``instances/ins-01-3-2.lp``, note that it refers to the jobs using numbers instead of letters).\n",
    "All instances include facts about predicate ``sequence/3``.\n",
    "For the Permutation Flow Shop problem, simply ignore those facts in your encoding.\n",
    "In the directories ``asp/solutions-flowshop`` and ``asp/solutions-jobshop`` you can find the solutions in ``json`` format. \n",
    "\n",
    "You have to submit two files named ``flowshop.lp`` and ``jobshop.lp``,\n",
    "included as templates in the directory ``asp``, that contain respectively the lines\n",
    "```\n",
    "#show perm/2.\n",
    "```\n",
    "and\n",
    "```\n",
    "#show perm/3.\n",
    "```\n",
    "and no more ``#show`` statements, so that in the output only the corresponding atoms appear.\n",
    "\n",
    "You can check if your encodings solve correctly all instances by running the ``Python`` script ``test.py`` as follows:\n",
    "* ``python asp/test.py -e asp/flowshop.lp -s asp/solutions-flowshop -t 180 -opt``\n",
    "* ``python asp/test.py -e asp/jobshop.lp -s asp/solutions-jobshop -t 180 -opt``\n",
    "\n",
    "In this case, the timeout for each instance is set to `180` seconds, but you can use any other value instead.\n",
    "We have tested the script with `Python` version `3.6`.\n",
    "\n",
    "Note that the script `test.py` only computes and checks one optimal answer set, \n",
    "but your encoding should represent *all* optimal solutions of the problem.\n",
    "\n",
    "We recommend you to work locally in your computer, using your own installation of ``clingo``.\n",
    "\n",
    "For this, you can run the next cell to generate a zip file of this directory. The zip file will be stored in the parent directory with the name `scheduling.zip`. You can click on the folder symbol at the left of the screen to look for it and download it."
   ]
  },
  {
   "cell_type": "code",
   "execution_count": null,
   "metadata": {},
   "outputs": [],
   "source": [
    "import os\n",
    "from shutil import make_archive\n",
    "make_archive('../scheduling', 'zip', os.getcwd())"
   ]
  },
  {
   "cell_type": "markdown",
   "metadata": {},
   "source": [
    "You can also run your encoding in the next cell. It is not recommended to work in this notebook at ``Binder``, but if you do it, remember to download the files that you modify to your computer, otherwise you will lose your changes."
   ]
  },
  {
   "cell_type": "code",
   "execution_count": null,
   "metadata": {},
   "outputs": [],
   "source": [
    "%%clingo 0 asp/instances/ins-01-3-2.lp -\n",
    "\n",
    "% Your encoding for the Permutation Flow Shop problem please...\n",
    "\n",
    "#show perm/2."
   ]
  },
  {
   "cell_type": "code",
   "execution_count": null,
   "metadata": {},
   "outputs": [],
   "source": [
    "%%clingo 0 asp/instances/ins-01-3-2.lp -\n",
    "\n",
    "% Your encoding for the Job Shop problem please...\n",
    "\n",
    "#show perm/3."
   ]
  },
  {
   "cell_type": "markdown",
   "metadata": {},
   "source": [
    "# Formalities.\n",
    "\n",
    "You can work on the solution alone or in groups of two people.\n",
    "Different groups have to submit different solutions, in case\n",
    "of plagiarism all groups involved will fail the project.\n",
    "\n",
    "We will test your encoding with the provided instances.\n",
    "Your solution has to correctly encode all optimal solutions for every instance.\n",
    "This will be tested automatically.\n",
    "Please contact us if you get stuck."
   ]
  },
  {
   "cell_type": "markdown",
   "metadata": {},
   "source": [
    "# Tips:\n",
    "\n",
    "* Commands to find all optimal stable models look as follows:\n",
    "```\n",
    "clingo --opt-mode=optN encoding.lp instance.lp 0\n",
    "```\n",
    "With option ``--quiet=1`` you can avoid printing non optimal solutions.\n",
    "More ``clingo`` options can be found using option ``--help=3``.\n",
    "\n",
    "* If you are stuck you can contact us. We will do out best to answer all your questions. You can send us questions and remarks either via Moodle or by email.\n",
    "\n",
    "* Start as soon as possible to avoid running out of time. However, if you still realize that you have problems making it before the deadline, please contact us instead of copying another solution."
   ]
  }
 ],
 "metadata": {
  "kernelspec": {
   "display_name": "Python 3 (ipykernel)",
   "language": "python",
   "name": "python3"
  },
  "language_info": {
   "codemirror_mode": {
    "name": "ipython",
    "version": 3
   },
   "file_extension": ".py",
   "mimetype": "text/x-python",
   "name": "python",
   "nbconvert_exporter": "python",
   "pygments_lexer": "ipython3",
   "version": "3.9.12"
  }
 },
 "nbformat": 4,
 "nbformat_minor": 4
}
